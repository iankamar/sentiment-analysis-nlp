{
 "cells": [
  {
   "cell_type": "markdown",
   "id": "19b6dc1b",
   "metadata": {},
   "source": [
    "# Implementing RNNs for sequence modeling in TensorFlow\n",
    "Project one: predicting the sentiment of IMDb movie reviews\n",
    "\n",
    "Preparing the movie review data"
   ]
  },
  {
   "cell_type": "code",
   "execution_count": 1,
   "id": "f2fab256",
   "metadata": {},
   "outputs": [],
   "source": [
    "import tensorflow as tf\n",
    "import tensorflow_datasets as tfds\n",
    "import numpy as np\n",
    "import pandas as pd\n",
    "import os"
   ]
  },
  {
   "cell_type": "code",
   "execution_count": 2,
   "id": "9d9a35f7",
   "metadata": {},
   "outputs": [
    {
     "data": {
      "text/html": [
       "<div>\n",
       "<style scoped>\n",
       "    .dataframe tbody tr th:only-of-type {\n",
       "        vertical-align: middle;\n",
       "    }\n",
       "\n",
       "    .dataframe tbody tr th {\n",
       "        vertical-align: top;\n",
       "    }\n",
       "\n",
       "    .dataframe thead th {\n",
       "        text-align: right;\n",
       "    }\n",
       "</style>\n",
       "<table border=\"1\" class=\"dataframe\">\n",
       "  <thead>\n",
       "    <tr style=\"text-align: right;\">\n",
       "      <th></th>\n",
       "      <th>review</th>\n",
       "      <th>sentiment</th>\n",
       "    </tr>\n",
       "  </thead>\n",
       "  <tbody>\n",
       "    <tr>\n",
       "      <th>30362</th>\n",
       "      <td>We arrived late at night and walked in to a ch...</td>\n",
       "      <td>1</td>\n",
       "    </tr>\n",
       "    <tr>\n",
       "      <th>30363</th>\n",
       "      <td>The only positive impression is location and p...</td>\n",
       "      <td>0</td>\n",
       "    </tr>\n",
       "    <tr>\n",
       "      <th>30364</th>\n",
       "      <td>Traveling with friends for shopping and a show...</td>\n",
       "      <td>0</td>\n",
       "    </tr>\n",
       "    <tr>\n",
       "      <th>30365</th>\n",
       "      <td>The experience was just ok. We paid extra for ...</td>\n",
       "      <td>0</td>\n",
       "    </tr>\n",
       "    <tr>\n",
       "      <th>30366</th>\n",
       "      <td>The Westin is a wonderfully restored grande da...</td>\n",
       "      <td>1</td>\n",
       "    </tr>\n",
       "  </tbody>\n",
       "</table>\n",
       "</div>"
      ],
      "text/plain": [
       "                                                  review  sentiment\n",
       "30362  We arrived late at night and walked in to a ch...          1\n",
       "30363  The only positive impression is location and p...          0\n",
       "30364  Traveling with friends for shopping and a show...          0\n",
       "30365  The experience was just ok. We paid extra for ...          0\n",
       "30366  The Westin is a wonderfully restored grande da...          1"
      ]
     },
     "execution_count": 2,
     "metadata": {},
     "output_type": "execute_result"
    }
   ],
   "source": [
    "df = pd.read_csv('sTrain.csv')#('https://raw.githubusercontent.com/tleitch/BDML/main/NLP/sTrain.csv')\n",
    "df = df.drop(df.columns[[0]],axis=1)\n",
    "df.tail()"
   ]
  },
  {
   "cell_type": "code",
   "execution_count": 52,
   "id": "b8bb60bc",
   "metadata": {},
   "outputs": [
    {
     "data": {
      "text/html": [
       "<div>\n",
       "<style scoped>\n",
       "    .dataframe tbody tr th:only-of-type {\n",
       "        vertical-align: middle;\n",
       "    }\n",
       "\n",
       "    .dataframe tbody tr th {\n",
       "        vertical-align: top;\n",
       "    }\n",
       "\n",
       "    .dataframe thead th {\n",
       "        text-align: right;\n",
       "    }\n",
       "</style>\n",
       "<table border=\"1\" class=\"dataframe\">\n",
       "  <thead>\n",
       "    <tr style=\"text-align: right;\">\n",
       "      <th></th>\n",
       "      <th>review</th>\n",
       "      <th>sentiment</th>\n",
       "    </tr>\n",
       "  </thead>\n",
       "  <tbody>\n",
       "    <tr>\n",
       "      <th>8560</th>\n",
       "      <td>Location superb and rooms (almost uniquely in ...</td>\n",
       "      <td>1</td>\n",
       "    </tr>\n",
       "    <tr>\n",
       "      <th>8561</th>\n",
       "      <td>I had reservations for --------- and “STAR”the...</td>\n",
       "      <td>0</td>\n",
       "    </tr>\n",
       "    <tr>\n",
       "      <th>8562</th>\n",
       "      <td>then a great place to stay is this hotel. Not ...</td>\n",
       "      <td>1</td>\n",
       "    </tr>\n",
       "    <tr>\n",
       "      <th>8563</th>\n",
       "      <td>pretty cool hotel. stayed for a few days in mi...</td>\n",
       "      <td>1</td>\n",
       "    </tr>\n",
       "    <tr>\n",
       "      <th>8564</th>\n",
       "      <td>This hotel has a great location if you want to...</td>\n",
       "      <td>0</td>\n",
       "    </tr>\n",
       "  </tbody>\n",
       "</table>\n",
       "</div>"
      ],
      "text/plain": [
       "                                                 review  sentiment\n",
       "8560  Location superb and rooms (almost uniquely in ...          1\n",
       "8561  I had reservations for --------- and “STAR”the...          0\n",
       "8562  then a great place to stay is this hotel. Not ...          1\n",
       "8563  pretty cool hotel. stayed for a few days in mi...          1\n",
       "8564  This hotel has a great location if you want to...          0"
      ]
     },
     "execution_count": 52,
     "metadata": {},
     "output_type": "execute_result"
    }
   ],
   "source": [
    "df_test=pd.read_csv('sTest.csv')\n",
    "df_test = df_test.drop(df_test.columns[[0]],axis=1)\n",
    "df_test.tail()"
   ]
  },
  {
   "cell_type": "code",
   "execution_count": 4,
   "id": "cfc14638",
   "metadata": {},
   "outputs": [
    {
     "name": "stdout",
     "output_type": "stream",
     "text": [
      "b'The room was kind of clean but had a VERY strong s' 0\n",
      "b'I booked this hotel through Hotwire at the lowest ' 0\n",
      "b'Stayed here with husband and sons on the way to an' 1\n"
     ]
    }
   ],
   "source": [
    "# Step 1: Create a dataset\n",
    "\n",
    "target = df.pop('sentiment')\n",
    "\n",
    "ds_raw = tf.data.Dataset.from_tensor_slices(\n",
    "    (df.values, target.values))\n",
    "\n",
    "## inspection:\n",
    "for ex in ds_raw.take(3):\n",
    "    tf.print(ex[0].numpy()[0][:50], ex[1])"
   ]
  },
  {
   "cell_type": "code",
   "execution_count": 53,
   "id": "594ede07",
   "metadata": {},
   "outputs": [],
   "source": [
    "#test\n",
    "target_t = df_test.pop('sentiment')\n",
    "te_raw = tf.data.Dataset.from_tensor_slices(\n",
    "    (df_test.values, target_t.values))"
   ]
  },
  {
   "cell_type": "code",
   "execution_count": 54,
   "id": "13943fd5",
   "metadata": {},
   "outputs": [],
   "source": [
    "tf.random.set_seed(1)\n",
    "ds_raw_train_valid = ds_raw.skip(25000)\n",
    "ds_raw_train = ds_raw_train_valid.take(20000)\n",
    "ds_raw_valid = ds_raw_train_valid.skip(20000)"
   ]
  },
  {
   "cell_type": "markdown",
   "id": "843332fe",
   "metadata": {},
   "source": [
    "### .Encoding sequences"
   ]
  },
  {
   "cell_type": "code",
   "execution_count": 6,
   "id": "5f01728b",
   "metadata": {},
   "outputs": [
    {
     "name": "stdout",
     "output_type": "stream",
     "text": [
      "Vocab-size: 22798\n"
     ]
    }
   ],
   "source": [
    "## Step 2: find unique tokens (words)\n",
    "\n",
    "from collections import Counter\n",
    "\n",
    "tokenizer = tfds.deprecated.text.Tokenizer()\n",
    "token_counts = Counter()\n",
    "\n",
    "for example in ds_raw_train:\n",
    "    tokens = tokenizer.tokenize(example[0].numpy()[0])\n",
    "    token_counts.update(tokens)\n",
    "    \n",
    "print('Vocab-size:', len(token_counts))"
   ]
  },
  {
   "cell_type": "code",
   "execution_count": 8,
   "id": "6c2e0838",
   "metadata": {},
   "outputs": [
    {
     "data": {
      "text/plain": [
       "[105, 63, 33, 1374]"
      ]
     },
     "execution_count": 8,
     "metadata": {},
     "output_type": "execute_result"
    }
   ],
   "source": [
    "## Step 3: encoding each unique token into integers\n",
    "\n",
    "encoder = tfds.deprecated.text.TokenTextEncoder(token_counts)\n",
    "\n",
    "example_str = 'This is an example!'\n",
    "encoder.encode(example_str)"
   ]
  },
  {
   "cell_type": "code",
   "execution_count": 9,
   "id": "759e1a0b",
   "metadata": {},
   "outputs": [],
   "source": [
    "## Step 3-A: define the function for transformation\n",
    "\n",
    "def encode(text_tensor, label):\n",
    "    text = text_tensor.numpy()[0]\n",
    "    encoded_text = encoder.encode(text)\n",
    "    return encoded_text, label\n",
    "\n",
    "## Step 3-B: wrap the encode function to a TF Op.\n",
    "def encode_map_fn(text, label):\n",
    "    return tf.py_function(encode, inp=[text, label], \n",
    "                          Tout=(tf.int64, tf.int64))"
   ]
  },
  {
   "cell_type": "code",
   "execution_count": 63,
   "id": "a9527afe",
   "metadata": {},
   "outputs": [
    {
     "name": "stdout",
     "output_type": "stream",
     "text": [
      "Sequence length: (454,)\n",
      "Sequence length: (137,)\n",
      "Sequence length: (103,)\n",
      "Sequence length: (269,)\n",
      "Sequence length: (63,)\n"
     ]
    },
    {
     "data": {
      "text/plain": [
       "(<tf.Tensor: shape=(63,), dtype=int64, numpy=\n",
       " array([ 213,   57,  193,  450,  468,   17, 1522,  114,  467,  976, 1392,\n",
       "          37,  728,   40,  375,   38, 1012, 8786, 7124,    6, 1139,  647,\n",
       "        5808,   17, 3759,  204, 8787,  323,  997, 1634,  717, 1655,   17,\n",
       "        8154,   41,  757, 1996,  998,  682, 5456,   11,  452, 8788,   17,\n",
       "        3281,   21, 5426,  730,  248,   17, 1589,   65,   57, 1637, 7682,\n",
       "         938,   17,  939, 8789,  831,  262,  145,  287], dtype=int64)>,\n",
       " <tf.Tensor: shape=(), dtype=int64, numpy=1>)"
      ]
     },
     "execution_count": 63,
     "metadata": {},
     "output_type": "execute_result"
    }
   ],
   "source": [
    "#############train#############\n",
    "ds_train = ds_raw_train.map(encode_map_fn)\n",
    "ds_valid = ds_raw_valid.map(encode_map_fn)\n",
    "#############test#############\n",
    "ds_test = ds_raw_test.map(encode_map_fn)\n",
    "test = te_raw.map(encode_map_fn)\n",
    "tf.random.set_seed(1)\n",
    "for example in ds_train.shuffle(1000).take(5):\n",
    "    print('Sequence length:', example[0].shape)\n",
    "    \n",
    "example"
   ]
  },
  {
   "cell_type": "code",
   "execution_count": 12,
   "id": "59e3bc1b",
   "metadata": {},
   "outputs": [
    {
     "name": "stdout",
     "output_type": "stream",
     "text": [
      "Individual size: (303,)\n",
      "Individual size: (291,)\n",
      "Individual size: (92,)\n",
      "Individual size: (316,)\n",
      "Individual size: (232,)\n",
      "Individual size: (132,)\n",
      "Individual size: (219,)\n",
      "Individual size: (121,)\n",
      "Batch dimension: (4, 316)\n",
      "Batch dimension: (4, 232)\n"
     ]
    }
   ],
   "source": [
    "## Take a small subset\n",
    "\n",
    "ds_subset = ds_train.take(8)\n",
    "for example in ds_subset:\n",
    "    print('Individual size:', example[0].shape)\n",
    "\n",
    "## batching the datasets\n",
    "ds_batched = ds_subset.padded_batch(\n",
    "    4, padded_shapes=([-1], []))\n",
    "\n",
    "for batch in ds_batched:\n",
    "    print('Batch dimension:', batch[0].shape)"
   ]
  },
  {
   "cell_type": "code",
   "execution_count": 55,
   "id": "ddc438e9",
   "metadata": {},
   "outputs": [],
   "source": [
    "## batching the datasets\n",
    "##############train#####################\n",
    "train_data = ds_train.padded_batch(\n",
    "    32, padded_shapes=([-1],[]))\n",
    "\n",
    "valid_data = ds_valid.padded_batch(\n",
    "    32, padded_shapes=([-1],[]))\n",
    "\n",
    "test_data = ds_test.padded_batch(\n",
    "    32, padded_shapes=([-1],[]))\n",
    "##############test#####################\n",
    "test_f = test.padded_batch(\n",
    "    32, padded_shapes=([-1],[]))"
   ]
  },
  {
   "cell_type": "markdown",
   "id": "9273a3ef",
   "metadata": {},
   "source": [
    "# Building an RNN model"
   ]
  },
  {
   "cell_type": "code",
   "execution_count": 80,
   "id": "c8ece417",
   "metadata": {},
   "outputs": [],
   "source": [
    "from tensorflow.keras import Sequential\n",
    "from tensorflow.keras.layers import Embedding\n",
    "from tensorflow.keras.layers import Dense\n",
    "from tensorflow.keras.layers import LSTM\n",
    "from tensorflow.keras.layers import GRU"
   ]
  },
  {
   "cell_type": "markdown",
   "id": "7dfb5df3",
   "metadata": {},
   "source": [
    "## lstm"
   ]
  },
  {
   "cell_type": "code",
   "execution_count": 37,
   "id": "e2033d11",
   "metadata": {},
   "outputs": [
    {
     "name": "stdout",
     "output_type": "stream",
     "text": [
      "Model: \"sequential_14\"\n",
      "_________________________________________________________________\n",
      "Layer (type)                 Output Shape              Param #   \n",
      "=================================================================\n",
      "embedding_13 (Embedding)     (None, None, 32)          3200000   \n",
      "_________________________________________________________________\n",
      "lstm_10 (LSTM)               (None, 32)                8320      \n",
      "_________________________________________________________________\n",
      "dense_5 (Dense)              (None, 1)                 33        \n",
      "=================================================================\n",
      "Total params: 3,208,353\n",
      "Trainable params: 3,208,353\n",
      "Non-trainable params: 0\n",
      "_________________________________________________________________\n"
     ]
    }
   ],
   "source": [
    "#1 layers LSTM\n",
    "model_lstm = Sequential()\n",
    "model_lstm.add(Embedding(100000, 32))\n",
    "model_lstm.add(LSTM(32))\n",
    "model_lstm.add(Dense(1))\n",
    "model_lstm.summary()"
   ]
  },
  {
   "cell_type": "markdown",
   "id": "91d25b75",
   "metadata": {},
   "source": [
    "## gru  layer=1"
   ]
  },
  {
   "cell_type": "code",
   "execution_count": 40,
   "id": "de3619f1",
   "metadata": {},
   "outputs": [
    {
     "name": "stdout",
     "output_type": "stream",
     "text": [
      "Model: \"sequential_15\"\n",
      "_________________________________________________________________\n",
      "Layer (type)                 Output Shape              Param #   \n",
      "=================================================================\n",
      "embedding_14 (Embedding)     (None, None, 32)          3200000   \n",
      "_________________________________________________________________\n",
      "gru_7 (GRU)                  (None, 32)                6336      \n",
      "_________________________________________________________________\n",
      "dense_6 (Dense)              (None, 1)                 33        \n",
      "=================================================================\n",
      "Total params: 3,206,369\n",
      "Trainable params: 3,206,369\n",
      "Non-trainable params: 0\n",
      "_________________________________________________________________\n"
     ]
    }
   ],
   "source": [
    "##1 layers GRU\n",
    "model_g1 = Sequential()\n",
    "model_g1.add(Embedding(100000, 32))\n",
    "model_g1.add(GRU(32))\n",
    "model_g1.add(Dense(1))\n",
    "model_g1.summary()"
   ]
  },
  {
   "cell_type": "markdown",
   "id": "6b09e32c",
   "metadata": {},
   "source": [
    "# #gru  layer=2"
   ]
  },
  {
   "cell_type": "code",
   "execution_count": 41,
   "id": "64b7927b",
   "metadata": {},
   "outputs": [
    {
     "name": "stdout",
     "output_type": "stream",
     "text": [
      "Model: \"sequential_16\"\n",
      "_________________________________________________________________\n",
      "Layer (type)                 Output Shape              Param #   \n",
      "=================================================================\n",
      "embedding_15 (Embedding)     (None, None, 32)          3200000   \n",
      "_________________________________________________________________\n",
      "gru_8 (GRU)                  (None, None, 32)          6336      \n",
      "_________________________________________________________________\n",
      "gru_9 (GRU)                  (None, 32)                6336      \n",
      "_________________________________________________________________\n",
      "dense_7 (Dense)              (None, 1)                 33        \n",
      "=================================================================\n",
      "Total params: 3,212,705\n",
      "Trainable params: 3,212,705\n",
      "Non-trainable params: 0\n",
      "_________________________________________________________________\n"
     ]
    }
   ],
   "source": [
    "## 2 layers GRU\n",
    "model_g2 = Sequential()\n",
    "model_g2.add(Embedding(100000, 32))\n",
    "model_g2.add(GRU(32, return_sequences=True))\n",
    "model_g2.add(GRU(32))\n",
    "model_g2.add(Dense(1))\n",
    "model_g2.summary()"
   ]
  },
  {
   "cell_type": "markdown",
   "id": "6c4572d2",
   "metadata": {},
   "source": [
    "## lstm gru"
   ]
  },
  {
   "cell_type": "code",
   "execution_count": 43,
   "id": "8e03a4f4",
   "metadata": {},
   "outputs": [
    {
     "name": "stdout",
     "output_type": "stream",
     "text": [
      "Model: \"sequential_17\"\n",
      "_________________________________________________________________\n",
      "Layer (type)                 Output Shape              Param #   \n",
      "=================================================================\n",
      "embedding_16 (Embedding)     (None, None, 32)          3200000   \n",
      "_________________________________________________________________\n",
      "lstm_11 (LSTM)               (None, None, 32)          8320      \n",
      "_________________________________________________________________\n",
      "gru_10 (GRU)                 (None, None, 16)          2400      \n",
      "_________________________________________________________________\n",
      "gru_11 (GRU)                 (None, 32)                4800      \n",
      "_________________________________________________________________\n",
      "dense_8 (Dense)              (None, 1)                 33        \n",
      "=================================================================\n",
      "Total params: 3,215,553\n",
      "Trainable params: 3,215,553\n",
      "Non-trainable params: 0\n",
      "_________________________________________________________________\n"
     ]
    }
   ],
   "source": [
    "## An example of building a RNN model\n",
    "## with LSTM gru layer\n",
    "\n",
    "from tensorflow.keras import Sequential\n",
    "from tensorflow.keras.layers import Embedding\n",
    "from tensorflow.keras.layers import Dense\n",
    "\n",
    "from tensorflow.keras.layers import LSTM\n",
    "from tensorflow.keras.layers import GRU\n",
    "dim1=10\n",
    "dim2=16\n",
    "model_lg= Sequential()\n",
    "model_lg.add(Embedding(100000 ,32))\n",
    "model_lg.add(LSTM(32, return_sequences=True,input_shape=(dim1,dim2)))\n",
    "################GRU 1 layer =16################\n",
    "model_lg.add(GRU(16,return_sequences=True))\n",
    "model_lg.add(GRU(32))\n",
    "model_lg.add(Dense(1))\n",
    "model_lg.summary() "
   ]
  },
  {
   "cell_type": "markdown",
   "id": "074fac5a",
   "metadata": {},
   "source": [
    "## train lstm"
   ]
  },
  {
   "cell_type": "code",
   "execution_count": 38,
   "id": "4bbcbe5e",
   "metadata": {},
   "outputs": [
    {
     "name": "stdout",
     "output_type": "stream",
     "text": [
      "Epoch 1/2\n",
      "168/168 [==============================] - 61s 348ms/step - loss: 0.6924 - accuracy: 0.6484\n",
      "Epoch 2/2\n",
      "168/168 [==============================] - 59s 349ms/step - loss: 0.6250 - accuracy: 0.6847\n"
     ]
    },
    {
     "data": {
      "text/plain": [
       "<tensorflow.python.keras.callbacks.History at 0x2d8d97556d0>"
      ]
     },
     "execution_count": 38,
     "metadata": {},
     "output_type": "execute_result"
    }
   ],
   "source": [
    "model_lstm.compile(loss=\"binary_crossentropy\",optimizer = 'adam',metrics=[\"accuracy\"])\n",
    "model_lstm.fit(train_data, epochs=2)"
   ]
  },
  {
   "cell_type": "markdown",
   "id": "59648822",
   "metadata": {},
   "source": [
    "## train gru  layer=1"
   ]
  },
  {
   "cell_type": "code",
   "execution_count": 44,
   "id": "ff9fe50c",
   "metadata": {},
   "outputs": [
    {
     "name": "stdout",
     "output_type": "stream",
     "text": [
      "Epoch 1/2\n",
      "168/168 [==============================] - 61s 353ms/step - loss: 0.7371 - accuracy: 0.6039\n",
      "Epoch 2/2\n",
      "168/168 [==============================] - 42s 248ms/step - loss: 0.6240 - accuracy: 0.6816\n"
     ]
    },
    {
     "data": {
      "text/plain": [
       "<tensorflow.python.keras.callbacks.History at 0x2d8e4782040>"
      ]
     },
     "execution_count": 44,
     "metadata": {},
     "output_type": "execute_result"
    }
   ],
   "source": [
    "model_g1.compile(loss=\"binary_crossentropy\",optimizer = 'adam',metrics=[\"accuracy\"])\n",
    "model_g1.fit(train_data, epochs=2)"
   ]
  },
  {
   "cell_type": "markdown",
   "id": "4ee2fbe2",
   "metadata": {},
   "source": [
    "## train gru  layer=2"
   ]
  },
  {
   "cell_type": "code",
   "execution_count": 45,
   "id": "d0e87d45",
   "metadata": {},
   "outputs": [
    {
     "name": "stdout",
     "output_type": "stream",
     "text": [
      "Epoch 1/2\n",
      "168/168 [==============================] - 104s 594ms/step - loss: 10.4586 - accuracy: 0.3220\n",
      "Epoch 2/2\n",
      "168/168 [==============================] - 110s 656ms/step - loss: 10.4586 - accuracy: 0.3220\n"
     ]
    },
    {
     "data": {
      "text/plain": [
       "<tensorflow.python.keras.callbacks.History at 0x2d8ec14af40>"
      ]
     },
     "execution_count": 45,
     "metadata": {},
     "output_type": "execute_result"
    }
   ],
   "source": [
    "model_g2.compile(loss=\"binary_crossentropy\",optimizer = 'adam',metrics=[\"accuracy\"])\n",
    "model_g2.fit(train_data, epochs=2)"
   ]
  },
  {
   "cell_type": "markdown",
   "id": "395e8c65",
   "metadata": {},
   "source": [
    "## train lstm-gru +epoch=6"
   ]
  },
  {
   "cell_type": "code",
   "execution_count": 72,
   "id": "024f1499",
   "metadata": {},
   "outputs": [
    {
     "name": "stdout",
     "output_type": "stream",
     "text": [
      "Epoch 1/6\n",
      "168/168 [==============================] - 162s 943ms/step - loss: 5.6484 - accuracy: 0.6328\n",
      "Epoch 2/6\n",
      "168/168 [==============================] - 154s 920ms/step - loss: 5.6484 - accuracy: 0.6328\n",
      "Epoch 3/6\n",
      "168/168 [==============================] - 159s 945ms/step - loss: 5.6484 - accuracy: 0.6328\n",
      "Epoch 4/6\n",
      "168/168 [==============================] - 143s 849ms/step - loss: 5.6484 - accuracy: 0.6328\n",
      "Epoch 5/6\n",
      "168/168 [==============================] - 159s 945ms/step - loss: 5.6484 - accuracy: 0.6328\n",
      "Epoch 6/6\n",
      "168/168 [==============================] - 157s 933ms/step - loss: 5.6484 - accuracy: 0.6328\n"
     ]
    },
    {
     "data": {
      "text/plain": [
       "<tensorflow.python.keras.callbacks.History at 0x2d84a62b160>"
      ]
     },
     "execution_count": 72,
     "metadata": {},
     "output_type": "execute_result"
    }
   ],
   "source": [
    "model_lg.compile(loss=\"binary_crossentropy\",optimizer = 'adam',metrics=[\"accuracy\"])\n",
    "model_lg.fit(train_data, epochs=6)"
   ]
  },
  {
   "cell_type": "markdown",
   "id": "510f8050",
   "metadata": {},
   "source": [
    "# results"
   ]
  },
  {
   "cell_type": "code",
   "execution_count": 73,
   "id": "10bb898b",
   "metadata": {},
   "outputs": [],
   "source": [
    "from sklearn.metrics import roc_curve, roc_auc_score\n",
    "fpr=[]\n",
    "tpr=[]\n",
    "auc=[]\n",
    "y11=model_lstm.predict(test_f)\n",
    "yy1=[np.mean(y11[x]) for x in range(y11.shape[0])]\n",
    "fpr1, tpr1, thresholds = roc_curve(target_t, yy1)\n",
    "fpr.append(fpr1) \n",
    "tpr.append(tpr1) \n",
    "auc.append(roc_auc_score(target_t, yy1)) \n",
    "\n",
    "y12=model_g1.predict(test_f)\n",
    "yy2=[np.mean(y12[x]) for x in range(y12.shape[0])]\n",
    "fpr2, tpr2, thresholds = roc_curve(target_t, yy2)\n",
    "fpr.append(fpr2) \n",
    "tpr.append(tpr2) \n",
    "auc.append(roc_auc_score(target_t, yy2)) \n",
    "\n",
    "y13=model_g2.predict(test_f)\n",
    "yy3=[np.mean(y13[x]) for x in range(y13.shape[0])]\n",
    "fpr3, tpr3, thresholds = roc_curve(target_t, yy3)\n",
    "fpr.append(fpr3) \n",
    "tpr.append(tpr3) \n",
    "auc.append(roc_auc_score(target_t, yy3))\n",
    "\n",
    "y14=model_lg.predict(test_f)\n",
    "yy4=[np.mean(y14[x]) for x in range(y14.shape[0])]\n",
    "fpr4, tpr4, thresholds = roc_curve(target_t, yy4)\n",
    "fpr.append(fpr4) \n",
    "tpr.append(tpr4) \n",
    "auc.append(roc_auc_score(target_t, yy4))"
   ]
  },
  {
   "cell_type": "markdown",
   "id": "e9d54371",
   "metadata": {},
   "source": [
    "## gru 1+epoch=10"
   ]
  },
  {
   "cell_type": "code",
   "execution_count": 74,
   "id": "8258d2c8",
   "metadata": {},
   "outputs": [
    {
     "name": "stdout",
     "output_type": "stream",
     "text": [
      "Epoch 1/10\n",
      "168/168 [==============================] - 62s 360ms/step - loss: 0.6213 - accuracy: 0.6896\n",
      "Epoch 2/10\n",
      "168/168 [==============================] - 61s 364ms/step - loss: 0.6144 - accuracy: 0.6926\n",
      "Epoch 3/10\n",
      "168/168 [==============================] - 62s 370ms/step - loss: 0.6100 - accuracy: 0.6933\n",
      "Epoch 4/10\n",
      "168/168 [==============================] - 62s 370ms/step - loss: 0.6077 - accuracy: 0.6939\n",
      "Epoch 5/10\n",
      "168/168 [==============================] - 63s 375ms/step - loss: 0.6063 - accuracy: 0.6941\n",
      "Epoch 6/10\n",
      "168/168 [==============================] - 62s 369ms/step - loss: 0.6056 - accuracy: 0.6941\n",
      "Epoch 7/10\n",
      "168/168 [==============================] - 61s 364ms/step - loss: 0.6074 - accuracy: 0.6941\n",
      "Epoch 8/10\n",
      "168/168 [==============================] - 61s 361ms/step - loss: 0.6060 - accuracy: 0.6942\n",
      "Epoch 9/10\n",
      "168/168 [==============================] - 62s 366ms/step - loss: 0.6046 - accuracy: 0.6948\n",
      "Epoch 10/10\n",
      "168/168 [==============================] - 61s 363ms/step - loss: 0.6022 - accuracy: 0.6963\n"
     ]
    }
   ],
   "source": [
    "model_g1.compile(loss=\"binary_crossentropy\",optimizer = 'adam',metrics=[\"accuracy\"])\n",
    "model_g1.fit(train_data, epochs=10)\n",
    "y15=model_g1.predict(test_f)\n",
    "yy5=[np.mean(y15[x]) for x in range(y15.shape[0])]\n",
    "fpr5, tpr5, thresholds = roc_curve(target_t, yy5)\n",
    "fpr.append(fpr5) \n",
    "tpr.append(tpr5) \n",
    "auc.append(roc_auc_score(target_t, yy5))\n"
   ]
  },
  {
   "cell_type": "code",
   "execution_count": 77,
   "id": "e6f39514",
   "metadata": {},
   "outputs": [
    {
     "data": {
      "image/png": "[encoded data removed]",
      "text/plain": [
       "<Figure size 432x288 with 1 Axes>"
      ]
     },
     "metadata": {
      "needs_background": "light"
     },
     "output_type": "display_data"
    }
   ],
   "source": [
    "import matplotlib.pyplot as plt\n",
    "%matplotlib inline\n",
    "method=['lstm','gru-1-1ayer','gru-2-layer','lstm-gru-6epoch','gru-1-1ayer-10epoch']\n",
    "for i in range(5):\n",
    "    plt.plot(fpr[i], tpr[i], label=method[i])\n",
    "plt.title('Three Models ROC')\n",
    "plt.legend(loc='lower right', fancybox=True, framealpha=0.6, fontsize=10)\n",
    "plt.plot((0, 1), (0, 1), c = '#808080', lw = 1, ls = '--', alpha = 0.7)\n",
    "plt.xlim((-0.01, 1.02))\n",
    "plt.ylim((-0.01, 1.02))\n",
    "plt.xticks(np.arange(0, 1.1, 0.1))\n",
    "plt.yticks(np.arange(0, 1.1, 0.1))\n",
    "plt.xlabel('False Positive Rate', fontsize=13)\n",
    "plt.ylabel('True Positive Rate', fontsize=13)\n",
    "plt.grid(b=True, ls=':')"
   ]
  },
  {
   "cell_type": "markdown",
   "id": "c68c8185",
   "metadata": {},
   "source": [
    "### ROC curive model good order :  'gru-1-1ayer-10epoch' > 'lstm-gru-6epoch' > 'gru-1-1ayer' > 'lstm' > 'gru-2-layer'"
   ]
  },
  {
   "cell_type": "code",
   "execution_count": 79,
   "id": "69fbe909",
   "metadata": {},
   "outputs": [
    {
     "name": "stdout",
     "output_type": "stream",
     "text": [
      "lstm\n",
      "0.5134716547294015\n",
      "gru-1-1ayer\n",
      "0.5505603014536362\n",
      "gru-2-layer\n",
      "0.49467113629859916\n",
      "lstm-gru-6epoch\n",
      "0.6664090863641936\n",
      "gru-1-1ayer-10epoch\n",
      "0.6095178796777359\n"
     ]
    }
   ],
   "source": [
    "method=['lstm','gru-1-1ayer','gru-2-layer','lstm-gru-6epoch','gru-1-1ayer-10epoch']\n",
    "for i in range(5):\n",
    "    print(method[i])\n",
    "    print(auc[i])"
   ]
  },
  {
   "cell_type": "markdown",
   "id": "46c850e7",
   "metadata": {},
   "source": [
    "### auc model good order : 'lstm-gru-6epoch' > 'gru-1-1ayer-10epoch' >  'gru-1-1ayer' > 'lstm' > 'gru-2-layer'"
   ]
  },
  {
   "cell_type": "code",
   "execution_count": null,
   "id": "93dadca0",
   "metadata": {},
   "outputs": [],
   "source": []
  }
 ],
 "metadata": {
  "kernelspec": {
   "display_name": "Python 3",
   "language": "python",
   "name": "python3"
  },
  "language_info": {
   "codemirror_mode": {
    "name": "ipython",
    "version": 3
   },
   "file_extension": ".py",
   "mimetype": "text/x-python",
   "name": "python",
   "nbconvert_exporter": "python",
   "pygments_lexer": "ipython3",
   "version": "3.8.8"
  }
 },
 "nbformat": 4,
 "nbformat_minor": 5
}
