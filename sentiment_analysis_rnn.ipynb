{
 "cells": [
  {
   "cell_type": "markdown",
   "id": "19b6dc1b",
   "metadata": {},
   "source": [
    "# Implementing RNNs for sequence modeling in TensorFlow\n",
    "Project one: predicting the sentiment of IMDb movie reviews\n",
    "\n",
    "Preparing the movie review data"
   ]
  },
  {
   "cell_type": "code",
   "execution_count": 6,
   "id": "f2fab256",
   "metadata": {},
   "outputs": [],
   "source": [
    "import tensorflow as tf\n",
    "import tensorflow_datasets as tfds\n",
    "import numpy as np\n",
    "import pandas as pd\n",
    "import os"
   ]
  },
  {
   "cell_type": "code",
   "execution_count": 7,
   "id": "9d9a35f7",
   "metadata": {},
   "outputs": [
    {
     "data": {
      "text/html": [
       "<div>\n",
       "<style scoped>\n",
       "    .dataframe tbody tr th:only-of-type {\n",
       "        vertical-align: middle;\n",
       "    }\n",
       "\n",
       "    .dataframe tbody tr th {\n",
       "        vertical-align: top;\n",
       "    }\n",
       "\n",
       "    .dataframe thead th {\n",
       "        text-align: right;\n",
       "    }\n",
       "</style>\n",
       "<table border=\"1\" class=\"dataframe\">\n",
       "  <thead>\n",
       "    <tr style=\"text-align: right;\">\n",
       "      <th></th>\n",
       "      <th>sentiment</th>\n",
       "    </tr>\n",
       "  </thead>\n",
       "  <tbody>\n",
       "    <tr>\n",
       "      <th>49995</th>\n",
       "      <td>positive</td>\n",
       "    </tr>\n",
       "    <tr>\n",
       "      <th>49996</th>\n",
       "      <td>negative</td>\n",
       "    </tr>\n",
       "    <tr>\n",
       "      <th>49997</th>\n",
       "      <td>negative</td>\n",
       "    </tr>\n",
       "    <tr>\n",
       "      <th>49998</th>\n",
       "      <td>negative</td>\n",
       "    </tr>\n",
       "    <tr>\n",
       "      <th>49999</th>\n",
       "      <td>negative</td>\n",
       "    </tr>\n",
       "  </tbody>\n",
       "</table>\n",
       "</div>"
      ],
      "text/plain": [
       "      sentiment\n",
       "49995  positive\n",
       "49996  negative\n",
       "49997  negative\n",
       "49998  negative\n",
       "49999  negative"
      ]
     },
     "execution_count": 7,
     "metadata": {},
     "output_type": "execute_result"
    }
   ],
   "source": [
    "df = pd.read_csv('../sentiment-analysis-nlp/data/IMDB Dataset.csv')\n",
    "df = df.drop(df.columns[[0]],axis=1)\n",
    "df.tail()"
   ]
  },
  {
   "cell_type": "code",
   "execution_count": null,
   "id": "b8bb60bc",
   "metadata": {},
   "outputs": [
    {
     "name": "stdout",
     "output_type": "stream",
     "text": [
      "Index(['review', 'sentiment'], dtype='object')\n"
     ]
    }
   ],
   "source": [
    "df = pd.read_csv('../sentiment-analysis-nlp/data/IMDB Dataset.csv')\n",
    "print(df.columns) \n"
   ]
  },
  {
   "cell_type": "code",
   "execution_count": 32,
   "id": "cfc14638",
   "metadata": {},
   "outputs": [
    {
     "name": "stdout",
     "output_type": "stream",
     "text": [
      "\"One of the other reviewers has mentioned that afte\" \"positive\"\n",
      "\"A wonderful little production. <br /><br />The fil\" \"positive\"\n",
      "\"I thought this was a wonderful way to spend time o\" \"positive\"\n"
     ]
    }
   ],
   "source": [
    "df = pd.read_csv('../sentiment-analysis-nlp/data/IMDB Dataset.csv')  # reload fresh\n",
    "target = df.pop('sentiment')\n",
    "\n",
    "ds_raw = tf.data.Dataset.from_tensor_slices(\n",
    "    (df['review'].values, target.values)\n",
    ")\n",
    "\n",
    "# Inspect\n",
    "for ex in ds_raw.take(3):\n",
    "    tf.print(tf.strings.substr(ex[0], 0, 50), ex[1])\n",
    "\n",
    "\n"
   ]
  },
  {
   "cell_type": "code",
   "execution_count": 34,
   "id": "3b13d27e",
   "metadata": {},
   "outputs": [
    {
     "name": "stdout",
     "output_type": "stream",
     "text": [
      "\"One of the other reviewers has mentioned that afte\" \"positive\"\n",
      "\"A wonderful little production. <br /><br />The fil\" \"positive\"\n",
      "\"I thought this was a wonderful way to spend time o\" \"positive\"\n"
     ]
    }
   ],
   "source": [
    "df = pd.read_csv('../sentiment-analysis-nlp/data/IMDB Dataset.csv')  # reload fresh\n",
    "target = df.pop('sentiment')\n",
    "\n",
    "ds_raw = tf.data.Dataset.from_tensor_slices(\n",
    "    (df['review'].values, target.values)\n",
    ")\n",
    "\n",
    "# Inspect\n",
    "for ex in ds_raw.take(3):\n",
    "    tf.print(tf.strings.substr(ex[0], 0, 50), ex[1])\n",
    "\n",
    "\n"
   ]
  },
  {
   "cell_type": "code",
   "execution_count": 38,
   "id": "594ede07",
   "metadata": {},
   "outputs": [],
   "source": [
    "#test\n",
    "from sklearn.model_selection import train_test_split\n",
    "import pandas as pd\n",
    "\n",
    "# Reload full dataset\n",
    "df = pd.read_csv('../sentiment-analysis-nlp/data/IMDB Dataset.csv')\n",
    "\n",
    "# Split before popping\n",
    "df_train, df_test = train_test_split(df, test_size=0.2, random_state=42)\n",
    "\n",
    "# Now pop 'sentiment'\n",
    "target_train = df_train.pop('sentiment')\n",
    "target_test = df_test.pop('sentiment')\n",
    "\n",
    "# Create TensorFlow datasets\n",
    "ds_train = tf.data.Dataset.from_tensor_slices((df_train['review'].values, target_train.values))\n",
    "ds_test = tf.data.Dataset.from_tensor_slices((df_test['review'].values, target_test.values))\n"
   ]
  },
  {
   "cell_type": "code",
   "execution_count": 39,
   "id": "13943fd5",
   "metadata": {},
   "outputs": [],
   "source": [
    "tf.random.set_seed(1)\n",
    "ds_raw_train_valid = ds_raw.skip(25000)\n",
    "ds_raw_train = ds_raw_train_valid.take(20000)\n",
    "ds_raw_valid = ds_raw_train_valid.skip(20000)"
   ]
  },
  {
   "cell_type": "markdown",
   "id": "843332fe",
   "metadata": {},
   "source": [
    "### .Encoding sequences"
   ]
  },
  {
   "cell_type": "code",
   "execution_count": 42,
   "id": "5f01728b",
   "metadata": {},
   "outputs": [
    {
     "name": "stdout",
     "output_type": "stream",
     "text": [
      "Vocab-size: 87809\n"
     ]
    }
   ],
   "source": [
    "## Step 2: find unique tokens (words)\n",
    "\n",
    "from collections import Counter\n",
    "\n",
    "tokenizer = tfds.deprecated.text.Tokenizer()\n",
    "token_counts = Counter()\n",
    "\n",
    "for example in ds_raw_train:\n",
    "    tokens = tokenizer.tokenize(example[0].numpy().decode('utf-8'))\n",
    "    token_counts.update(tokens)\n",
    "    \n",
    "print('Vocab-size:', len(token_counts))"
   ]
  },
  {
   "cell_type": "code",
   "execution_count": 43,
   "id": "6c2e0838",
   "metadata": {},
   "outputs": [
    {
     "data": {
      "text/plain": [
       "[1, 77, 641, 1196]"
      ]
     },
     "execution_count": 43,
     "metadata": {},
     "output_type": "execute_result"
    }
   ],
   "source": [
    "## Step 3: encoding each unique token into integers\n",
    "\n",
    "encoder = tfds.deprecated.text.TokenTextEncoder(token_counts)\n",
    "\n",
    "example_str = 'This is an example!'\n",
    "encoder.encode(example_str)"
   ]
  },
  {
   "cell_type": "code",
   "execution_count": 59,
   "id": "759e1a0b",
   "metadata": {},
   "outputs": [],
   "source": [
    "## Step 3-A: define the function for transformation\n",
    "label_lookup = {'negative': 0, 'positive': 1}\n",
    "\n",
    "def encode(text_tensor, label_tensor):\n",
    "    text = text_tensor.numpy().decode('utf-8')\n",
    "    label = label_tensor.numpy().decode('utf-8')\n",
    "    encoded_text = encoder.encode(text)\n",
    "    encoded_label = label_lookup[label]  # ✅ Convert string label to int\n",
    "    return encoded_text, encoded_label\n",
    "\n",
    "\n",
    "## Step 3-B: wrap the encode function to a TF Op.\n",
    "def encode_map_fn(text, label):\n",
    "    encoded_text, label = tf.py_function(\n",
    "        encode, \n",
    "        inp=[text, label], \n",
    "        Tout=(tf.int64, tf.int64)\n",
    "    )\n",
    "    encoded_text.set_shape([None])\n",
    "    label.set_shape([])\n",
    "    return encoded_text, label"
   ]
  },
  {
   "cell_type": "code",
   "execution_count": 60,
   "id": "a9527afe",
   "metadata": {},
   "outputs": [
    {
     "name": "stdout",
     "output_type": "stream",
     "text": [
      "Sequence length: (268,)\n",
      "Sequence length: (653,)\n",
      "Sequence length: (258,)\n",
      "Sequence length: (84,)\n",
      "Sequence length: (152,)\n"
     ]
    },
    {
     "data": {
      "text/plain": [
       "(<tf.Tensor: shape=(152,), dtype=int64, numpy=\n",
       " array([  162,   503,   319,     6,  2167,  9681,    45,  1004,    38,\n",
       "           77,   653,    15,   350,    97,  1922,  4518,    17,  3764,\n",
       "         1779,   528, 16215, 16216,    77,  1638,    15,   120,   438,\n",
       "          108,   718,    11,   975,   321,    12,  6402,  9226,  3481,\n",
       "         2207,   319,     6, 17853,   186,  1225,    36,   114,  8845,\n",
       "         1038,    49,  3233,    80,    17, 17854, 17855,  6851, 17856,\n",
       "        16216,    45,    17,   298,    11,   390,  9120, 17857,   230,\n",
       "          390,  5448,  1972,  2350,  1107,   745, 17858,    11,     6,\n",
       "        17859, 17860,    11,     6,  1400, 15693,    15,  2863,  8646,\n",
       "         1400,  8646,  1371,  4075, 11488,  1974, 17861,  4174, 16221,\n",
       "        14637,  3513,    12,   425,  6670,  5740, 11615,     6,   569,\n",
       "         1116, 17862,    15,     6, 17853,   641, 17862,    39,   232,\n",
       "         6851, 17856,   109,   283,   191, 14913,   163,  1297,   800,\n",
       "            2,  9374, 17863,  1801,    17,  5082,    15,     6, 17856,\n",
       "         6764,    17,   871,  3430,   386,    96,    17, 17864,    45,\n",
       "           17, 17865, 17866,   461,     6, 17794,   938,  4520, 10305,\n",
       "        16223, 17867, 17868, 16224, 16225,    45,  2705,  6513])>,\n",
       " <tf.Tensor: shape=(), dtype=int64, numpy=0>)"
      ]
     },
     "execution_count": 60,
     "metadata": {},
     "output_type": "execute_result"
    }
   ],
   "source": [
    "#############train#############\n",
    "ds_train = ds_raw_train.map(encode_map_fn)\n",
    "ds_valid = ds_raw_valid.map(encode_map_fn)\n",
    "#############test#############\n",
    "ds_test = ds_raw_test.map(encode_map_fn)\n",
    "test = te_raw.map(encode_map_fn)\n",
    "tf.random.set_seed(1)\n",
    "for example in ds_train.shuffle(1000).take(5):\n",
    "    print('Sequence length:', example[0].shape)\n",
    "    \n",
    "example"
   ]
  },
  {
   "cell_type": "code",
   "execution_count": 61,
   "id": "59e3bc1b",
   "metadata": {},
   "outputs": [
    {
     "name": "stdout",
     "output_type": "stream",
     "text": [
      "Individual size: (150,)\n",
      "Individual size: (302,)\n",
      "Individual size: (190,)\n",
      "Individual size: (509,)\n",
      "Individual size: (346,)\n",
      "Individual size: (91,)\n",
      "Individual size: (122,)\n",
      "Individual size: (165,)\n",
      "Batch dimension: (4, 509)\n",
      "Batch dimension: (4, 346)\n"
     ]
    }
   ],
   "source": [
    "## Take a small subset\n",
    "\n",
    "ds_subset = ds_train.take(8)\n",
    "for example in ds_subset:\n",
    "    print('Individual size:', example[0].shape)\n",
    "\n",
    "## batching the datasets\n",
    "ds_batched = ds_subset.padded_batch(\n",
    "    4, padded_shapes=([-1], []))\n",
    "\n",
    "for batch in ds_batched:\n",
    "    print('Batch dimension:', batch[0].shape)"
   ]
  },
  {
   "cell_type": "code",
   "execution_count": 62,
   "id": "ddc438e9",
   "metadata": {},
   "outputs": [],
   "source": [
    "## batching the datasets\n",
    "##############train#####################\n",
    "train_data = ds_train.padded_batch(\n",
    "    32, padded_shapes=([-1],[]))\n",
    "\n",
    "valid_data = ds_valid.padded_batch(\n",
    "    32, padded_shapes=([-1],[]))\n",
    "\n",
    "test_data = ds_test.padded_batch(\n",
    "    32, padded_shapes=([-1],[]))\n",
    "##############test#####################\n",
    "test_f = test.padded_batch(\n",
    "    32, padded_shapes=([-1],[]))"
   ]
  },
  {
   "cell_type": "markdown",
   "id": "9273a3ef",
   "metadata": {},
   "source": [
    "# Building an RNN model"
   ]
  },
  {
   "cell_type": "code",
   "execution_count": 63,
   "id": "c8ece417",
   "metadata": {},
   "outputs": [],
   "source": [
    "from tensorflow.keras import Sequential\n",
    "from tensorflow.keras.layers import Embedding\n",
    "from tensorflow.keras.layers import Dense\n",
    "from tensorflow.keras.layers import LSTM\n",
    "from tensorflow.keras.layers import GRU"
   ]
  },
  {
   "cell_type": "markdown",
   "id": "7dfb5df3",
   "metadata": {},
   "source": [
    "## lstm"
   ]
  },
  {
   "cell_type": "code",
   "execution_count": 80,
   "id": "e2033d11",
   "metadata": {},
   "outputs": [
    {
     "data": {
      "text/html": [
       "<pre style=\"white-space:pre;overflow-x:auto;line-height:normal;font-family:Menlo,'DejaVu Sans Mono',consolas,'Courier New',monospace\"><span style=\"font-weight: bold\">Model: \"sequential_8\"</span>\n",
       "</pre>\n"
      ],
      "text/plain": [
       "\u001b[1mModel: \"sequential_8\"\u001b[0m\n"
      ]
     },
     "metadata": {},
     "output_type": "display_data"
    },
    {
     "data": {
      "text/html": [
       "<pre style=\"white-space:pre;overflow-x:auto;line-height:normal;font-family:Menlo,'DejaVu Sans Mono',consolas,'Courier New',monospace\">┏━━━━━━━━━━━━━━━━━━━━━━━━━━━━━━━━━┳━━━━━━━━━━━━━━━━━━━━━━━━┳━━━━━━━━━━━━━━━┓\n",
       "┃<span style=\"font-weight: bold\"> Layer (type)                    </span>┃<span style=\"font-weight: bold\"> Output Shape           </span>┃<span style=\"font-weight: bold\">       Param # </span>┃\n",
       "┡━━━━━━━━━━━━━━━━━━━━━━━━━━━━━━━━━╇━━━━━━━━━━━━━━━━━━━━━━━━╇━━━━━━━━━━━━━━━┩\n",
       "│ embedding_8 (<span style=\"color: #0087ff; text-decoration-color: #0087ff\">Embedding</span>)         │ (<span style=\"color: #00d7ff; text-decoration-color: #00d7ff\">None</span>, <span style=\"color: #00af00; text-decoration-color: #00af00\">609</span>, <span style=\"color: #00af00; text-decoration-color: #00af00\">32</span>)        │     <span style=\"color: #00af00; text-decoration-color: #00af00\">3,200,000</span> │\n",
       "├─────────────────────────────────┼────────────────────────┼───────────────┤\n",
       "│ lstm_6 (<span style=\"color: #0087ff; text-decoration-color: #0087ff\">LSTM</span>)                   │ (<span style=\"color: #00d7ff; text-decoration-color: #00d7ff\">None</span>, <span style=\"color: #00af00; text-decoration-color: #00af00\">32</span>)             │         <span style=\"color: #00af00; text-decoration-color: #00af00\">8,320</span> │\n",
       "├─────────────────────────────────┼────────────────────────┼───────────────┤\n",
       "│ dense_8 (<span style=\"color: #0087ff; text-decoration-color: #0087ff\">Dense</span>)                 │ (<span style=\"color: #00d7ff; text-decoration-color: #00d7ff\">None</span>, <span style=\"color: #00af00; text-decoration-color: #00af00\">1</span>)              │            <span style=\"color: #00af00; text-decoration-color: #00af00\">33</span> │\n",
       "└─────────────────────────────────┴────────────────────────┴───────────────┘\n",
       "</pre>\n"
      ],
      "text/plain": [
       "┏━━━━━━━━━━━━━━━━━━━━━━━━━━━━━━━━━┳━━━━━━━━━━━━━━━━━━━━━━━━┳━━━━━━━━━━━━━━━┓\n",
       "┃\u001b[1m \u001b[0m\u001b[1mLayer (type)                   \u001b[0m\u001b[1m \u001b[0m┃\u001b[1m \u001b[0m\u001b[1mOutput Shape          \u001b[0m\u001b[1m \u001b[0m┃\u001b[1m \u001b[0m\u001b[1m      Param #\u001b[0m\u001b[1m \u001b[0m┃\n",
       "┡━━━━━━━━━━━━━━━━━━━━━━━━━━━━━━━━━╇━━━━━━━━━━━━━━━━━━━━━━━━╇━━━━━━━━━━━━━━━┩\n",
       "│ embedding_8 (\u001b[38;5;33mEmbedding\u001b[0m)         │ (\u001b[38;5;45mNone\u001b[0m, \u001b[38;5;34m609\u001b[0m, \u001b[38;5;34m32\u001b[0m)        │     \u001b[38;5;34m3,200,000\u001b[0m │\n",
       "├─────────────────────────────────┼────────────────────────┼───────────────┤\n",
       "│ lstm_6 (\u001b[38;5;33mLSTM\u001b[0m)                   │ (\u001b[38;5;45mNone\u001b[0m, \u001b[38;5;34m32\u001b[0m)             │         \u001b[38;5;34m8,320\u001b[0m │\n",
       "├─────────────────────────────────┼────────────────────────┼───────────────┤\n",
       "│ dense_8 (\u001b[38;5;33mDense\u001b[0m)                 │ (\u001b[38;5;45mNone\u001b[0m, \u001b[38;5;34m1\u001b[0m)              │            \u001b[38;5;34m33\u001b[0m │\n",
       "└─────────────────────────────────┴────────────────────────┴───────────────┘\n"
      ]
     },
     "metadata": {},
     "output_type": "display_data"
    },
    {
     "data": {
      "text/html": [
       "<pre style=\"white-space:pre;overflow-x:auto;line-height:normal;font-family:Menlo,'DejaVu Sans Mono',consolas,'Courier New',monospace\"><span style=\"font-weight: bold\"> Total params: </span><span style=\"color: #00af00; text-decoration-color: #00af00\">3,208,353</span> (12.24 MB)\n",
       "</pre>\n"
      ],
      "text/plain": [
       "\u001b[1m Total params: \u001b[0m\u001b[38;5;34m3,208,353\u001b[0m (12.24 MB)\n"
      ]
     },
     "metadata": {},
     "output_type": "display_data"
    },
    {
     "data": {
      "text/html": [
       "<pre style=\"white-space:pre;overflow-x:auto;line-height:normal;font-family:Menlo,'DejaVu Sans Mono',consolas,'Courier New',monospace\"><span style=\"font-weight: bold\"> Trainable params: </span><span style=\"color: #00af00; text-decoration-color: #00af00\">3,208,353</span> (12.24 MB)\n",
       "</pre>\n"
      ],
      "text/plain": [
       "\u001b[1m Trainable params: \u001b[0m\u001b[38;5;34m3,208,353\u001b[0m (12.24 MB)\n"
      ]
     },
     "metadata": {},
     "output_type": "display_data"
    },
    {
     "data": {
      "text/html": [
       "<pre style=\"white-space:pre;overflow-x:auto;line-height:normal;font-family:Menlo,'DejaVu Sans Mono',consolas,'Courier New',monospace\"><span style=\"font-weight: bold\"> Non-trainable params: </span><span style=\"color: #00af00; text-decoration-color: #00af00\">0</span> (0.00 B)\n",
       "</pre>\n"
      ],
      "text/plain": [
       "\u001b[1m Non-trainable params: \u001b[0m\u001b[38;5;34m0\u001b[0m (0.00 B)\n"
      ]
     },
     "metadata": {},
     "output_type": "display_data"
    }
   ],
   "source": [
    "#1 layers LSTM\n",
    "# import numpy as np\n",
    "\n",
    "# # Get sequence lengths from the encoded training dataset\n",
    "# sequence_lengths = []\n",
    "\n",
    "# for text_tensor, _ in ds_train:\n",
    "#     sequence_lengths.append(len(text_tensor.numpy()))\n",
    "\n",
    "# # Compute 95th percentile length to avoid outliers\n",
    "# max_len = int(np.percentile(sequence_lengths, 95))\n",
    "\n",
    "# print(\"Recommended max_len:\", max_len)\n",
    "\n",
    "model_lstm = Sequential()\n",
    "model_lstm.add(Embedding(input_dim=100000, output_dim=32, input_length=609))\n",
    "model_lstm.add(LSTM(32))\n",
    "model_lstm.add(Dense(1))\n",
    "\n",
    "model_lstm.build(input_shape=(None, 609))  # 👈 build it\n",
    "model_lstm.summary()                       # ✅ now shows param counts\n"
   ]
  },
  {
   "cell_type": "markdown",
   "id": "91d25b75",
   "metadata": {},
   "source": [
    "## gru  layer=1"
   ]
  },
  {
   "cell_type": "code",
   "execution_count": 89,
   "id": "de3619f1",
   "metadata": {},
   "outputs": [
    {
     "data": {
      "text/html": [
       "<pre style=\"white-space:pre;overflow-x:auto;line-height:normal;font-family:Menlo,'DejaVu Sans Mono',consolas,'Courier New',monospace\"><span style=\"font-weight: bold\">Model: \"sequential_15\"</span>\n",
       "</pre>\n"
      ],
      "text/plain": [
       "\u001b[1mModel: \"sequential_15\"\u001b[0m\n"
      ]
     },
     "metadata": {},
     "output_type": "display_data"
    },
    {
     "data": {
      "text/html": [
       "<pre style=\"white-space:pre;overflow-x:auto;line-height:normal;font-family:Menlo,'DejaVu Sans Mono',consolas,'Courier New',monospace\">┏━━━━━━━━━━━━━━━━━━━━━━━━━━━━━━━━━┳━━━━━━━━━━━━━━━━━━━━━━━━┳━━━━━━━━━━━━━━━┓\n",
       "┃<span style=\"font-weight: bold\"> Layer (type)                    </span>┃<span style=\"font-weight: bold\"> Output Shape           </span>┃<span style=\"font-weight: bold\">       Param # </span>┃\n",
       "┡━━━━━━━━━━━━━━━━━━━━━━━━━━━━━━━━━╇━━━━━━━━━━━━━━━━━━━━━━━━╇━━━━━━━━━━━━━━━┩\n",
       "│ embedding_15 (<span style=\"color: #0087ff; text-decoration-color: #0087ff\">Embedding</span>)        │ (<span style=\"color: #00d7ff; text-decoration-color: #00d7ff\">None</span>, <span style=\"color: #00af00; text-decoration-color: #00af00\">609</span>, <span style=\"color: #00af00; text-decoration-color: #00af00\">32</span>)        │     <span style=\"color: #00af00; text-decoration-color: #00af00\">3,200,000</span> │\n",
       "├─────────────────────────────────┼────────────────────────┼───────────────┤\n",
       "│ gru_16 (<span style=\"color: #0087ff; text-decoration-color: #0087ff\">GRU</span>)                    │ (<span style=\"color: #00d7ff; text-decoration-color: #00d7ff\">None</span>, <span style=\"color: #00af00; text-decoration-color: #00af00\">32</span>)             │         <span style=\"color: #00af00; text-decoration-color: #00af00\">6,336</span> │\n",
       "├─────────────────────────────────┼────────────────────────┼───────────────┤\n",
       "│ dense_15 (<span style=\"color: #0087ff; text-decoration-color: #0087ff\">Dense</span>)                │ (<span style=\"color: #00d7ff; text-decoration-color: #00d7ff\">None</span>, <span style=\"color: #00af00; text-decoration-color: #00af00\">1</span>)              │            <span style=\"color: #00af00; text-decoration-color: #00af00\">33</span> │\n",
       "└─────────────────────────────────┴────────────────────────┴───────────────┘\n",
       "</pre>\n"
      ],
      "text/plain": [
       "┏━━━━━━━━━━━━━━━━━━━━━━━━━━━━━━━━━┳━━━━━━━━━━━━━━━━━━━━━━━━┳━━━━━━━━━━━━━━━┓\n",
       "┃\u001b[1m \u001b[0m\u001b[1mLayer (type)                   \u001b[0m\u001b[1m \u001b[0m┃\u001b[1m \u001b[0m\u001b[1mOutput Shape          \u001b[0m\u001b[1m \u001b[0m┃\u001b[1m \u001b[0m\u001b[1m      Param #\u001b[0m\u001b[1m \u001b[0m┃\n",
       "┡━━━━━━━━━━━━━━━━━━━━━━━━━━━━━━━━━╇━━━━━━━━━━━━━━━━━━━━━━━━╇━━━━━━━━━━━━━━━┩\n",
       "│ embedding_15 (\u001b[38;5;33mEmbedding\u001b[0m)        │ (\u001b[38;5;45mNone\u001b[0m, \u001b[38;5;34m609\u001b[0m, \u001b[38;5;34m32\u001b[0m)        │     \u001b[38;5;34m3,200,000\u001b[0m │\n",
       "├─────────────────────────────────┼────────────────────────┼───────────────┤\n",
       "│ gru_16 (\u001b[38;5;33mGRU\u001b[0m)                    │ (\u001b[38;5;45mNone\u001b[0m, \u001b[38;5;34m32\u001b[0m)             │         \u001b[38;5;34m6,336\u001b[0m │\n",
       "├─────────────────────────────────┼────────────────────────┼───────────────┤\n",
       "│ dense_15 (\u001b[38;5;33mDense\u001b[0m)                │ (\u001b[38;5;45mNone\u001b[0m, \u001b[38;5;34m1\u001b[0m)              │            \u001b[38;5;34m33\u001b[0m │\n",
       "└─────────────────────────────────┴────────────────────────┴───────────────┘\n"
      ]
     },
     "metadata": {},
     "output_type": "display_data"
    },
    {
     "data": {
      "text/html": [
       "<pre style=\"white-space:pre;overflow-x:auto;line-height:normal;font-family:Menlo,'DejaVu Sans Mono',consolas,'Courier New',monospace\"><span style=\"font-weight: bold\"> Total params: </span><span style=\"color: #00af00; text-decoration-color: #00af00\">3,206,369</span> (12.23 MB)\n",
       "</pre>\n"
      ],
      "text/plain": [
       "\u001b[1m Total params: \u001b[0m\u001b[38;5;34m3,206,369\u001b[0m (12.23 MB)\n"
      ]
     },
     "metadata": {},
     "output_type": "display_data"
    },
    {
     "data": {
      "text/html": [
       "<pre style=\"white-space:pre;overflow-x:auto;line-height:normal;font-family:Menlo,'DejaVu Sans Mono',consolas,'Courier New',monospace\"><span style=\"font-weight: bold\"> Trainable params: </span><span style=\"color: #00af00; text-decoration-color: #00af00\">3,206,369</span> (12.23 MB)\n",
       "</pre>\n"
      ],
      "text/plain": [
       "\u001b[1m Trainable params: \u001b[0m\u001b[38;5;34m3,206,369\u001b[0m (12.23 MB)\n"
      ]
     },
     "metadata": {},
     "output_type": "display_data"
    },
    {
     "data": {
      "text/html": [
       "<pre style=\"white-space:pre;overflow-x:auto;line-height:normal;font-family:Menlo,'DejaVu Sans Mono',consolas,'Courier New',monospace\"><span style=\"font-weight: bold\"> Non-trainable params: </span><span style=\"color: #00af00; text-decoration-color: #00af00\">0</span> (0.00 B)\n",
       "</pre>\n"
      ],
      "text/plain": [
       "\u001b[1m Non-trainable params: \u001b[0m\u001b[38;5;34m0\u001b[0m (0.00 B)\n"
      ]
     },
     "metadata": {},
     "output_type": "display_data"
    }
   ],
   "source": [
    "##1 layers GRU\n",
    "max_len = 609  # use your computed max sequence length\n",
    "\n",
    "model_g1 = Sequential()\n",
    "model_g1.add(Embedding(input_dim=100000, output_dim=32, input_length=max_len))\n",
    "model_g1.add(GRU(32))\n",
    "model_g1.add(Dense(1))\n",
    "\n",
    "model_g1.build(input_shape=(None, max_len))  # 👈 builds the model\n",
    "model_g1.summary()                           # ✅ shows output shapes and params\n"
   ]
  },
  {
   "cell_type": "markdown",
   "id": "6b09e32c",
   "metadata": {},
   "source": [
    "# #gru  layer=2"
   ]
  },
  {
   "cell_type": "code",
   "execution_count": 90,
   "id": "64b7927b",
   "metadata": {},
   "outputs": [
    {
     "data": {
      "text/html": [
       "<pre style=\"white-space:pre;overflow-x:auto;line-height:normal;font-family:Menlo,'DejaVu Sans Mono',consolas,'Courier New',monospace\"><span style=\"font-weight: bold\">Model: \"sequential_16\"</span>\n",
       "</pre>\n"
      ],
      "text/plain": [
       "\u001b[1mModel: \"sequential_16\"\u001b[0m\n"
      ]
     },
     "metadata": {},
     "output_type": "display_data"
    },
    {
     "data": {
      "text/html": [
       "<pre style=\"white-space:pre;overflow-x:auto;line-height:normal;font-family:Menlo,'DejaVu Sans Mono',consolas,'Courier New',monospace\">┏━━━━━━━━━━━━━━━━━━━━━━━━━━━━━━━━━┳━━━━━━━━━━━━━━━━━━━━━━━━┳━━━━━━━━━━━━━━━┓\n",
       "┃<span style=\"font-weight: bold\"> Layer (type)                    </span>┃<span style=\"font-weight: bold\"> Output Shape           </span>┃<span style=\"font-weight: bold\">       Param # </span>┃\n",
       "┡━━━━━━━━━━━━━━━━━━━━━━━━━━━━━━━━━╇━━━━━━━━━━━━━━━━━━━━━━━━╇━━━━━━━━━━━━━━━┩\n",
       "│ embedding_16 (<span style=\"color: #0087ff; text-decoration-color: #0087ff\">Embedding</span>)        │ (<span style=\"color: #00d7ff; text-decoration-color: #00d7ff\">None</span>, <span style=\"color: #00af00; text-decoration-color: #00af00\">609</span>, <span style=\"color: #00af00; text-decoration-color: #00af00\">32</span>)        │     <span style=\"color: #00af00; text-decoration-color: #00af00\">3,200,000</span> │\n",
       "├─────────────────────────────────┼────────────────────────┼───────────────┤\n",
       "│ gru_17 (<span style=\"color: #0087ff; text-decoration-color: #0087ff\">GRU</span>)                    │ (<span style=\"color: #00d7ff; text-decoration-color: #00d7ff\">None</span>, <span style=\"color: #00af00; text-decoration-color: #00af00\">609</span>, <span style=\"color: #00af00; text-decoration-color: #00af00\">32</span>)        │         <span style=\"color: #00af00; text-decoration-color: #00af00\">6,336</span> │\n",
       "├─────────────────────────────────┼────────────────────────┼───────────────┤\n",
       "│ gru_18 (<span style=\"color: #0087ff; text-decoration-color: #0087ff\">GRU</span>)                    │ (<span style=\"color: #00d7ff; text-decoration-color: #00d7ff\">None</span>, <span style=\"color: #00af00; text-decoration-color: #00af00\">32</span>)             │         <span style=\"color: #00af00; text-decoration-color: #00af00\">6,336</span> │\n",
       "├─────────────────────────────────┼────────────────────────┼───────────────┤\n",
       "│ dense_16 (<span style=\"color: #0087ff; text-decoration-color: #0087ff\">Dense</span>)                │ (<span style=\"color: #00d7ff; text-decoration-color: #00d7ff\">None</span>, <span style=\"color: #00af00; text-decoration-color: #00af00\">1</span>)              │            <span style=\"color: #00af00; text-decoration-color: #00af00\">33</span> │\n",
       "└─────────────────────────────────┴────────────────────────┴───────────────┘\n",
       "</pre>\n"
      ],
      "text/plain": [
       "┏━━━━━━━━━━━━━━━━━━━━━━━━━━━━━━━━━┳━━━━━━━━━━━━━━━━━━━━━━━━┳━━━━━━━━━━━━━━━┓\n",
       "┃\u001b[1m \u001b[0m\u001b[1mLayer (type)                   \u001b[0m\u001b[1m \u001b[0m┃\u001b[1m \u001b[0m\u001b[1mOutput Shape          \u001b[0m\u001b[1m \u001b[0m┃\u001b[1m \u001b[0m\u001b[1m      Param #\u001b[0m\u001b[1m \u001b[0m┃\n",
       "┡━━━━━━━━━━━━━━━━━━━━━━━━━━━━━━━━━╇━━━━━━━━━━━━━━━━━━━━━━━━╇━━━━━━━━━━━━━━━┩\n",
       "│ embedding_16 (\u001b[38;5;33mEmbedding\u001b[0m)        │ (\u001b[38;5;45mNone\u001b[0m, \u001b[38;5;34m609\u001b[0m, \u001b[38;5;34m32\u001b[0m)        │     \u001b[38;5;34m3,200,000\u001b[0m │\n",
       "├─────────────────────────────────┼────────────────────────┼───────────────┤\n",
       "│ gru_17 (\u001b[38;5;33mGRU\u001b[0m)                    │ (\u001b[38;5;45mNone\u001b[0m, \u001b[38;5;34m609\u001b[0m, \u001b[38;5;34m32\u001b[0m)        │         \u001b[38;5;34m6,336\u001b[0m │\n",
       "├─────────────────────────────────┼────────────────────────┼───────────────┤\n",
       "│ gru_18 (\u001b[38;5;33mGRU\u001b[0m)                    │ (\u001b[38;5;45mNone\u001b[0m, \u001b[38;5;34m32\u001b[0m)             │         \u001b[38;5;34m6,336\u001b[0m │\n",
       "├─────────────────────────────────┼────────────────────────┼───────────────┤\n",
       "│ dense_16 (\u001b[38;5;33mDense\u001b[0m)                │ (\u001b[38;5;45mNone\u001b[0m, \u001b[38;5;34m1\u001b[0m)              │            \u001b[38;5;34m33\u001b[0m │\n",
       "└─────────────────────────────────┴────────────────────────┴───────────────┘\n"
      ]
     },
     "metadata": {},
     "output_type": "display_data"
    },
    {
     "data": {
      "text/html": [
       "<pre style=\"white-space:pre;overflow-x:auto;line-height:normal;font-family:Menlo,'DejaVu Sans Mono',consolas,'Courier New',monospace\"><span style=\"font-weight: bold\"> Total params: </span><span style=\"color: #00af00; text-decoration-color: #00af00\">3,212,705</span> (12.26 MB)\n",
       "</pre>\n"
      ],
      "text/plain": [
       "\u001b[1m Total params: \u001b[0m\u001b[38;5;34m3,212,705\u001b[0m (12.26 MB)\n"
      ]
     },
     "metadata": {},
     "output_type": "display_data"
    },
    {
     "data": {
      "text/html": [
       "<pre style=\"white-space:pre;overflow-x:auto;line-height:normal;font-family:Menlo,'DejaVu Sans Mono',consolas,'Courier New',monospace\"><span style=\"font-weight: bold\"> Trainable params: </span><span style=\"color: #00af00; text-decoration-color: #00af00\">3,212,705</span> (12.26 MB)\n",
       "</pre>\n"
      ],
      "text/plain": [
       "\u001b[1m Trainable params: \u001b[0m\u001b[38;5;34m3,212,705\u001b[0m (12.26 MB)\n"
      ]
     },
     "metadata": {},
     "output_type": "display_data"
    },
    {
     "data": {
      "text/html": [
       "<pre style=\"white-space:pre;overflow-x:auto;line-height:normal;font-family:Menlo,'DejaVu Sans Mono',consolas,'Courier New',monospace\"><span style=\"font-weight: bold\"> Non-trainable params: </span><span style=\"color: #00af00; text-decoration-color: #00af00\">0</span> (0.00 B)\n",
       "</pre>\n"
      ],
      "text/plain": [
       "\u001b[1m Non-trainable params: \u001b[0m\u001b[38;5;34m0\u001b[0m (0.00 B)\n"
      ]
     },
     "metadata": {},
     "output_type": "display_data"
    }
   ],
   "source": [
    "## 2 layers GRU\n",
    "max_len = 609  # your previously computed sequence length\n",
    "\n",
    "model_g2 = Sequential()\n",
    "model_g2.add(Embedding(input_dim=100000, output_dim=32, input_length=max_len))\n",
    "model_g2.add(GRU(32, return_sequences=True))\n",
    "model_g2.add(GRU(32))\n",
    "model_g2.add(Dense(1))\n",
    "\n",
    "model_g2.build(input_shape=(None, max_len))  # 👈 required to see param count\n",
    "model_g2.summary()\n"
   ]
  },
  {
   "cell_type": "markdown",
   "id": "6c4572d2",
   "metadata": {},
   "source": [
    "## lstm gru"
   ]
  },
  {
   "cell_type": "code",
   "execution_count": 94,
   "id": "8e03a4f4",
   "metadata": {},
   "outputs": [
    {
     "data": {
      "text/html": [
       "<pre style=\"white-space:pre;overflow-x:auto;line-height:normal;font-family:Menlo,'DejaVu Sans Mono',consolas,'Courier New',monospace\"><span style=\"font-weight: bold\">Model: \"sequential_20\"</span>\n",
       "</pre>\n"
      ],
      "text/plain": [
       "\u001b[1mModel: \"sequential_20\"\u001b[0m\n"
      ]
     },
     "metadata": {},
     "output_type": "display_data"
    },
    {
     "data": {
      "text/html": [
       "<pre style=\"white-space:pre;overflow-x:auto;line-height:normal;font-family:Menlo,'DejaVu Sans Mono',consolas,'Courier New',monospace\">┏━━━━━━━━━━━━━━━━━━━━━━━━━━━━━━━━━┳━━━━━━━━━━━━━━━━━━━━━━━━┳━━━━━━━━━━━━━━━┓\n",
       "┃<span style=\"font-weight: bold\"> Layer (type)                    </span>┃<span style=\"font-weight: bold\"> Output Shape           </span>┃<span style=\"font-weight: bold\">       Param # </span>┃\n",
       "┡━━━━━━━━━━━━━━━━━━━━━━━━━━━━━━━━━╇━━━━━━━━━━━━━━━━━━━━━━━━╇━━━━━━━━━━━━━━━┩\n",
       "│ embedding_20 (<span style=\"color: #0087ff; text-decoration-color: #0087ff\">Embedding</span>)        │ (<span style=\"color: #00d7ff; text-decoration-color: #00d7ff\">None</span>, <span style=\"color: #00af00; text-decoration-color: #00af00\">609</span>, <span style=\"color: #00af00; text-decoration-color: #00af00\">32</span>)        │     <span style=\"color: #00af00; text-decoration-color: #00af00\">3,200,000</span> │\n",
       "├─────────────────────────────────┼────────────────────────┼───────────────┤\n",
       "│ gru_25 (<span style=\"color: #0087ff; text-decoration-color: #0087ff\">GRU</span>)                    │ (<span style=\"color: #00d7ff; text-decoration-color: #00d7ff\">None</span>, <span style=\"color: #00af00; text-decoration-color: #00af00\">609</span>, <span style=\"color: #00af00; text-decoration-color: #00af00\">16</span>)        │         <span style=\"color: #00af00; text-decoration-color: #00af00\">2,400</span> │\n",
       "├─────────────────────────────────┼────────────────────────┼───────────────┤\n",
       "│ gru_26 (<span style=\"color: #0087ff; text-decoration-color: #0087ff\">GRU</span>)                    │ (<span style=\"color: #00d7ff; text-decoration-color: #00d7ff\">None</span>, <span style=\"color: #00af00; text-decoration-color: #00af00\">32</span>)             │         <span style=\"color: #00af00; text-decoration-color: #00af00\">4,800</span> │\n",
       "├─────────────────────────────────┼────────────────────────┼───────────────┤\n",
       "│ dense_20 (<span style=\"color: #0087ff; text-decoration-color: #0087ff\">Dense</span>)                │ (<span style=\"color: #00d7ff; text-decoration-color: #00d7ff\">None</span>, <span style=\"color: #00af00; text-decoration-color: #00af00\">1</span>)              │            <span style=\"color: #00af00; text-decoration-color: #00af00\">33</span> │\n",
       "└─────────────────────────────────┴────────────────────────┴───────────────┘\n",
       "</pre>\n"
      ],
      "text/plain": [
       "┏━━━━━━━━━━━━━━━━━━━━━━━━━━━━━━━━━┳━━━━━━━━━━━━━━━━━━━━━━━━┳━━━━━━━━━━━━━━━┓\n",
       "┃\u001b[1m \u001b[0m\u001b[1mLayer (type)                   \u001b[0m\u001b[1m \u001b[0m┃\u001b[1m \u001b[0m\u001b[1mOutput Shape          \u001b[0m\u001b[1m \u001b[0m┃\u001b[1m \u001b[0m\u001b[1m      Param #\u001b[0m\u001b[1m \u001b[0m┃\n",
       "┡━━━━━━━━━━━━━━━━━━━━━━━━━━━━━━━━━╇━━━━━━━━━━━━━━━━━━━━━━━━╇━━━━━━━━━━━━━━━┩\n",
       "│ embedding_20 (\u001b[38;5;33mEmbedding\u001b[0m)        │ (\u001b[38;5;45mNone\u001b[0m, \u001b[38;5;34m609\u001b[0m, \u001b[38;5;34m32\u001b[0m)        │     \u001b[38;5;34m3,200,000\u001b[0m │\n",
       "├─────────────────────────────────┼────────────────────────┼───────────────┤\n",
       "│ gru_25 (\u001b[38;5;33mGRU\u001b[0m)                    │ (\u001b[38;5;45mNone\u001b[0m, \u001b[38;5;34m609\u001b[0m, \u001b[38;5;34m16\u001b[0m)        │         \u001b[38;5;34m2,400\u001b[0m │\n",
       "├─────────────────────────────────┼────────────────────────┼───────────────┤\n",
       "│ gru_26 (\u001b[38;5;33mGRU\u001b[0m)                    │ (\u001b[38;5;45mNone\u001b[0m, \u001b[38;5;34m32\u001b[0m)             │         \u001b[38;5;34m4,800\u001b[0m │\n",
       "├─────────────────────────────────┼────────────────────────┼───────────────┤\n",
       "│ dense_20 (\u001b[38;5;33mDense\u001b[0m)                │ (\u001b[38;5;45mNone\u001b[0m, \u001b[38;5;34m1\u001b[0m)              │            \u001b[38;5;34m33\u001b[0m │\n",
       "└─────────────────────────────────┴────────────────────────┴───────────────┘\n"
      ]
     },
     "metadata": {},
     "output_type": "display_data"
    },
    {
     "data": {
      "text/html": [
       "<pre style=\"white-space:pre;overflow-x:auto;line-height:normal;font-family:Menlo,'DejaVu Sans Mono',consolas,'Courier New',monospace\"><span style=\"font-weight: bold\"> Total params: </span><span style=\"color: #00af00; text-decoration-color: #00af00\">3,207,233</span> (12.23 MB)\n",
       "</pre>\n"
      ],
      "text/plain": [
       "\u001b[1m Total params: \u001b[0m\u001b[38;5;34m3,207,233\u001b[0m (12.23 MB)\n"
      ]
     },
     "metadata": {},
     "output_type": "display_data"
    },
    {
     "data": {
      "text/html": [
       "<pre style=\"white-space:pre;overflow-x:auto;line-height:normal;font-family:Menlo,'DejaVu Sans Mono',consolas,'Courier New',monospace\"><span style=\"font-weight: bold\"> Trainable params: </span><span style=\"color: #00af00; text-decoration-color: #00af00\">3,207,233</span> (12.23 MB)\n",
       "</pre>\n"
      ],
      "text/plain": [
       "\u001b[1m Trainable params: \u001b[0m\u001b[38;5;34m3,207,233\u001b[0m (12.23 MB)\n"
      ]
     },
     "metadata": {},
     "output_type": "display_data"
    },
    {
     "data": {
      "text/html": [
       "<pre style=\"white-space:pre;overflow-x:auto;line-height:normal;font-family:Menlo,'DejaVu Sans Mono',consolas,'Courier New',monospace\"><span style=\"font-weight: bold\"> Non-trainable params: </span><span style=\"color: #00af00; text-decoration-color: #00af00\">0</span> (0.00 B)\n",
       "</pre>\n"
      ],
      "text/plain": [
       "\u001b[1m Non-trainable params: \u001b[0m\u001b[38;5;34m0\u001b[0m (0.00 B)\n"
      ]
     },
     "metadata": {},
     "output_type": "display_data"
    }
   ],
   "source": [
    "## An example of building a RNN model\n",
    "## with LSTM gru layer\n",
    "\n",
    "max_len = 609  # your calculated sequence length\n",
    "\n",
    "model_lg = Sequential()\n",
    "model_lg.add(Embedding(input_dim=100000, output_dim=32, input_length=max_len))  \n",
    "model_lg.add(GRU(16, return_sequences=True))\n",
    "model_lg.add(GRU(32))\n",
    "model_lg.add(Dense(1))\n",
    "\n",
    "model_lg.build(input_shape=(None, max_len))  \n",
    "model_lg.summary()\n"
   ]
  },
  {
   "cell_type": "markdown",
   "id": "074fac5a",
   "metadata": {},
   "source": [
    "## train lstm"
   ]
  },
  {
   "cell_type": "code",
   "execution_count": 96,
   "id": "4bbcbe5e",
   "metadata": {},
   "outputs": [
    {
     "name": "stdout",
     "output_type": "stream",
     "text": [
      "Epoch 1/2\n"
     ]
    },
    {
     "name": "stdout",
     "output_type": "stream",
     "text": [
      "\u001b[1m625/625\u001b[0m \u001b[32m━━━━━━━━━━━━━━━━━━━━\u001b[0m\u001b[37m\u001b[0m \u001b[1m147s\u001b[0m 232ms/step - accuracy: 0.4923 - loss: 0.7023\n",
      "Epoch 2/2\n",
      "\u001b[1m625/625\u001b[0m \u001b[32m━━━━━━━━━━━━━━━━━━━━\u001b[0m\u001b[37m\u001b[0m \u001b[1m132s\u001b[0m 211ms/step - accuracy: 0.4949 - loss: 0.6926\n"
     ]
    },
    {
     "data": {
      "text/plain": [
       "<keras.src.callbacks.history.History at 0x2392d5d3e90>"
      ]
     },
     "execution_count": 96,
     "metadata": {},
     "output_type": "execute_result"
    }
   ],
   "source": [
    "model_lstm.compile(loss=\"binary_crossentropy\",optimizer = 'adam',metrics=[\"accuracy\"])\n",
    "model_lstm.fit(train_data, epochs=2)"
   ]
  },
  {
   "cell_type": "markdown",
   "id": "59648822",
   "metadata": {},
   "source": [
    "## train gru  layer=1"
   ]
  },
  {
   "cell_type": "code",
   "execution_count": null,
   "id": "ff9fe50c",
   "metadata": {},
   "outputs": [
    {
     "name": "stdout",
     "output_type": "stream",
     "text": [
      "Epoch 1/2\n"
     ]
    },
    {
     "name": "stdout",
     "output_type": "stream",
     "text": [
      "\u001b[1m625/625\u001b[0m \u001b[32m━━━━━━━━━━━━━━━━━━━━\u001b[0m\u001b[37m\u001b[0m \u001b[1m152s\u001b[0m 238ms/step - accuracy: 0.4881 - loss: 0.7622\n",
      "Epoch 2/2\n",
      "\u001b[1m625/625\u001b[0m \u001b[32m━━━━━━━━━━━━━━━━━━━━\u001b[0m\u001b[37m\u001b[0m \u001b[1m137s\u001b[0m 219ms/step - accuracy: 0.4924 - loss: 0.6954\n"
     ]
    },
    {
     "data": {
      "text/plain": [
       "<keras.src.callbacks.history.History at 0x238c26a9890>"
      ]
     },
     "execution_count": 70,
     "metadata": {},
     "output_type": "execute_result"
    }
   ],
   "source": [
    "model_g1.compile(loss=\"binary_crossentropy\",optimizer = 'adam',metrics=[\"accuracy\"])\n",
    "model_g1.fit(train_data, epochs=2)"
   ]
  },
  {
   "cell_type": "markdown",
   "id": "4ee2fbe2",
   "metadata": {},
   "source": [
    "## train gru  layer=2"
   ]
  },
  {
   "cell_type": "code",
   "execution_count": null,
   "id": "d0e87d45",
   "metadata": {},
   "outputs": [
    {
     "name": "stdout",
     "output_type": "stream",
     "text": [
      "Epoch 1/2\n"
     ]
    },
    {
     "name": "stdout",
     "output_type": "stream",
     "text": [
      "\u001b[1m625/625\u001b[0m \u001b[32m━━━━━━━━━━━━━━━━━━━━\u001b[0m\u001b[37m\u001b[0m \u001b[1m255s\u001b[0m 402ms/step - accuracy: 0.4868 - loss: 0.7975\n",
      "Epoch 2/2\n",
      "\u001b[1m625/625\u001b[0m \u001b[32m━━━━━━━━━━━━━━━━━━━━\u001b[0m\u001b[37m\u001b[0m \u001b[1m256s\u001b[0m 408ms/step - accuracy: 0.5059 - loss: 0.6935\n"
     ]
    },
    {
     "data": {
      "text/plain": [
       "<keras.src.callbacks.history.History at 0x238a37d76d0>"
      ]
     },
     "execution_count": 71,
     "metadata": {},
     "output_type": "execute_result"
    }
   ],
   "source": [
    "model_g2.compile(loss=\"binary_crossentropy\",optimizer = 'adam',metrics=[\"accuracy\"])\n",
    "model_g2.fit(train_data, epochs=2)"
   ]
  },
  {
   "cell_type": "markdown",
   "id": "395e8c65",
   "metadata": {},
   "source": [
    "## train lstm-gru +epoch=6"
   ]
  },
  {
   "cell_type": "code",
   "execution_count": 97,
   "id": "024f1499",
   "metadata": {},
   "outputs": [
    {
     "name": "stdout",
     "output_type": "stream",
     "text": [
      "Epoch 1/6\n"
     ]
    },
    {
     "name": "stdout",
     "output_type": "stream",
     "text": [
      "\u001b[1m625/625\u001b[0m \u001b[32m━━━━━━━━━━━━━━━━━━━━\u001b[0m\u001b[37m\u001b[0m \u001b[1m243s\u001b[0m 378ms/step - accuracy: 0.4911 - loss: 0.7688\n",
      "Epoch 2/6\n",
      "\u001b[1m625/625\u001b[0m \u001b[32m━━━━━━━━━━━━━━━━━━━━\u001b[0m\u001b[37m\u001b[0m \u001b[1m378s\u001b[0m 604ms/step - accuracy: 0.4903 - loss: 0.6967\n",
      "Epoch 3/6\n",
      "\u001b[1m625/625\u001b[0m \u001b[32m━━━━━━━━━━━━━━━━━━━━\u001b[0m\u001b[37m\u001b[0m \u001b[1m348s\u001b[0m 556ms/step - accuracy: 0.4994 - loss: 0.6894\n",
      "Epoch 4/6\n",
      "\u001b[1m625/625\u001b[0m \u001b[32m━━━━━━━━━━━━━━━━━━━━\u001b[0m\u001b[37m\u001b[0m \u001b[1m387s\u001b[0m 620ms/step - accuracy: 0.5031 - loss: 0.6774\n",
      "Epoch 5/6\n",
      "\u001b[1m625/625\u001b[0m \u001b[32m━━━━━━━━━━━━━━━━━━━━\u001b[0m\u001b[37m\u001b[0m \u001b[1m393s\u001b[0m 628ms/step - accuracy: 0.5045 - loss: 0.6754\n",
      "Epoch 6/6\n",
      "\u001b[1m625/625\u001b[0m \u001b[32m━━━━━━━━━━━━━━━━━━━━\u001b[0m\u001b[37m\u001b[0m \u001b[1m416s\u001b[0m 666ms/step - accuracy: 0.5055 - loss: 0.6729\n"
     ]
    },
    {
     "data": {
      "text/plain": [
       "<keras.src.callbacks.history.History at 0x2392d5f12d0>"
      ]
     },
     "execution_count": 97,
     "metadata": {},
     "output_type": "execute_result"
    }
   ],
   "source": [
    "model_lg.compile(loss=\"binary_crossentropy\",optimizer = 'adam',metrics=[\"accuracy\"])\n",
    "model_lg.fit(train_data, epochs=6)"
   ]
  },
  {
   "cell_type": "markdown",
   "id": "510f8050",
   "metadata": {},
   "source": [
    "# results"
   ]
  },
  {
   "cell_type": "code",
   "execution_count": 128,
   "id": "10bb898b",
   "metadata": {},
   "outputs": [
    {
     "name": "stdout",
     "output_type": "stream",
     "text": [
      "Available variables in environment:\n",
      "['train_test_split', 'label_lookup', 'test_data', 'test_f', 'label_column']\n",
      "\n",
      "Warning: No test labels found - using dummy labels for illustration\n",
      "For actual use, please provide your true test labels\n",
      "\n",
      "Label distribution:\n",
      "0    5016\n",
      "1    4984\n",
      "Name: count, dtype: int64\n",
      "\u001b[1m313/313\u001b[0m \u001b[32m━━━━━━━━━━━━━━━━━━━━\u001b[0m\u001b[37m\u001b[0m \u001b[1m21s\u001b[0m 66ms/step\n",
      "\u001b[1m313/313\u001b[0m \u001b[32m━━━━━━━━━━━━━━━━━━━━\u001b[0m\u001b[37m\u001b[0m \u001b[1m20s\u001b[0m 61ms/step\n",
      "\u001b[1m313/313\u001b[0m \u001b[32m━━━━━━━━━━━━━━━━━━━━\u001b[0m\u001b[37m\u001b[0m \u001b[1m33s\u001b[0m 104ms/step\n",
      "\u001b[1m313/313\u001b[0m \u001b[32m━━━━━━━━━━━━━━━━━━━━\u001b[0m\u001b[37m\u001b[0m \u001b[1m31s\u001b[0m 98ms/step\n"
     ]
    },
    {
     "data": {
      "image/png": "[encoded data removed]",
      "text/plain": [
       "<Figure size 1000x800 with 1 Axes>"
      ]
     },
     "metadata": {},
     "output_type": "display_data"
    },
    {
     "name": "stdout",
     "output_type": "stream",
     "text": [
      "\n",
      "Model Performance Summary:\n",
      "LSTM: AUC = 0.5053\n",
      "GRU (1-layer): AUC = 0.4988\n",
      "GRU (2-layer): AUC = 0.5054\n",
      "LSTM-GRU Hybrid: AUC = 0.5073\n"
     ]
    }
   ],
   "source": [
    "import numpy as np\n",
    "import pandas as pd\n",
    "from sklearn.metrics import roc_curve, roc_auc_score\n",
    "import matplotlib.pyplot as plt\n",
    "\n",
    "# 1. First inspect the available data\n",
    "print(\"Available variables in environment:\")\n",
    "print([var for var in globals() if 'label' in var or 'y_' in var or 'test_' in var])\n",
    "\n",
    "# 2. Check if we have test labels\n",
    "if 'y_test' in globals():\n",
    "    target_t = y_test\n",
    "elif 'test_labels' in globals():\n",
    "    target_t = test_labels\n",
    "else:\n",
    "    # If no labels found, we'll create dummy labels for demonstration\n",
    "    print(\"\\nWarning: No test labels found - using dummy labels for illustration\")\n",
    "    print(\"For actual use, please provide your true test labels\")\n",
    "    target_t = np.random.randint(0, 2, size=len(df_test))\n",
    "\n",
    "# 3. Verify labels\n",
    "print(\"\\nLabel distribution:\")\n",
    "print(pd.Series(target_t).value_counts())\n",
    "\n",
    "# 4. Initialize ROC metrics storage\n",
    "fpr, tpr, auc = [], [], []\n",
    "model_names = ['LSTM', 'GRU (1-layer)', 'GRU (2-layer)', 'LSTM-GRU Hybrid']\n",
    "colors = ['blue', 'red', 'green', 'purple']\n",
    "\n",
    "# 5. Calculate predictions and ROC metrics\n",
    "def get_predictions(model, test_data):\n",
    "    preds = model.predict(test_data)\n",
    "    return [np.mean(y) for y in preds]\n",
    "\n",
    "models = [model_lstm, model_g1, model_g2, model_lg]\n",
    "for model in models:\n",
    "    try:\n",
    "        y_pred = get_predictions(model, test_f)\n",
    "        fpr_model, tpr_model, _ = roc_curve(target_t, y_pred)\n",
    "        auc_model = roc_auc_score(target_t, y_pred)\n",
    "        fpr.append(fpr_model)\n",
    "        tpr.append(tpr_model)\n",
    "        auc.append(auc_model)\n",
    "    except Exception as e:\n",
    "        print(f\"Error processing {model_names[len(fpr)]}: {str(e)}\")\n",
    "        continue\n",
    "\n",
    "# 6. Plot ROC curves\n",
    "plt.figure(figsize=(10, 8))\n",
    "for i, (model_name, color) in enumerate(zip(model_names, colors)):\n",
    "    if i < len(fpr):  # Only plot if we have data\n",
    "        plt.plot(fpr[i], tpr[i], lw=2, color=color,\n",
    "                 label=f'{model_name} (AUC = {auc[i]:.3f})')\n",
    "\n",
    "plt.plot([0, 1], [0, 1], color='navy', lw=2, linestyle='--')\n",
    "plt.xlim([0.0, 1.0])\n",
    "plt.ylim([0.0, 1.05])\n",
    "plt.xlabel('False Positive Rate', fontsize=12)\n",
    "plt.ylabel('True Positive Rate', fontsize=12)\n",
    "plt.title('ROC Curves Comparison', fontsize=16)\n",
    "plt.legend(loc=\"lower right\", fontsize=10)\n",
    "plt.grid(alpha=0.3)\n",
    "plt.tight_layout()\n",
    "plt.show()\n",
    "\n",
    "# 7. Print AUC scores\n",
    "print(\"\\nModel Performance Summary:\")\n",
    "for name, score in zip(model_names, auc):\n",
    "    print(f\"{name}: AUC = {score:.4f}\")"
   ]
  },
  {
   "cell_type": "markdown",
   "id": "e9d54371",
   "metadata": {},
   "source": [
    "## gru 1+epoch=10"
   ]
  },
  {
   "cell_type": "code",
   "execution_count": 129,
   "id": "8258d2c8",
   "metadata": {},
   "outputs": [
    {
     "name": "stdout",
     "output_type": "stream",
     "text": [
      "Epoch 1/10\n",
      "\u001b[1m625/625\u001b[0m \u001b[32m━━━━━━━━━━━━━━━━━━━━\u001b[0m\u001b[37m\u001b[0m \u001b[1m144s\u001b[0m 226ms/step - accuracy: 0.4819 - loss: 0.7907\n",
      "Epoch 2/10\n",
      "\u001b[1m625/625\u001b[0m \u001b[32m━━━━━━━━━━━━━━━━━━━━\u001b[0m\u001b[37m\u001b[0m \u001b[1m199s\u001b[0m 318ms/step - accuracy: 0.5024 - loss: 0.6941\n",
      "Epoch 3/10\n",
      "\u001b[1m625/625\u001b[0m \u001b[32m━━━━━━━━━━━━━━━━━━━━\u001b[0m\u001b[37m\u001b[0m \u001b[1m198s\u001b[0m 316ms/step - accuracy: 0.4967 - loss: 0.6886\n",
      "Epoch 4/10\n",
      "\u001b[1m625/625\u001b[0m \u001b[32m━━━━━━━━━━━━━━━━━━━━\u001b[0m\u001b[37m\u001b[0m \u001b[1m198s\u001b[0m 316ms/step - accuracy: 0.5019 - loss: 0.6815\n",
      "Epoch 5/10\n",
      "\u001b[1m625/625\u001b[0m \u001b[32m━━━━━━━━━━━━━━━━━━━━\u001b[0m\u001b[37m\u001b[0m \u001b[1m180s\u001b[0m 288ms/step - accuracy: 0.5070 - loss: 0.6747\n",
      "Epoch 6/10\n",
      "\u001b[1m625/625\u001b[0m \u001b[32m━━━━━━━━━━━━━━━━━━━━\u001b[0m\u001b[37m\u001b[0m \u001b[1m223s\u001b[0m 357ms/step - accuracy: 0.5090 - loss: 0.6731\n",
      "Epoch 7/10\n",
      "\u001b[1m625/625\u001b[0m \u001b[32m━━━━━━━━━━━━━━━━━━━━\u001b[0m\u001b[37m\u001b[0m \u001b[1m344s\u001b[0m 551ms/step - accuracy: 0.5119 - loss: 0.6760\n",
      "Epoch 8/10\n",
      "\u001b[1m625/625\u001b[0m \u001b[32m━━━━━━━━━━━━━━━━━━━━\u001b[0m\u001b[37m\u001b[0m \u001b[1m820s\u001b[0m 1s/step - accuracy: 0.5016 - loss: 0.6897\n",
      "Epoch 9/10\n",
      "\u001b[1m625/625\u001b[0m \u001b[32m━━━━━━━━━━━━━━━━━━━━\u001b[0m\u001b[37m\u001b[0m \u001b[1m855s\u001b[0m 1s/step - accuracy: 0.5041 - loss: 0.6764\n",
      "Epoch 10/10\n",
      "\u001b[1m625/625\u001b[0m \u001b[32m━━━━━━━━━━━━━━━━━━━━\u001b[0m\u001b[37m\u001b[0m \u001b[1m285s\u001b[0m 454ms/step - accuracy: 0.5358 - loss: 0.6530\n",
      "\u001b[1m313/313\u001b[0m \u001b[32m━━━━━━━━━━━━━━━━━━━━\u001b[0m\u001b[37m\u001b[0m \u001b[1m27s\u001b[0m 83ms/step\n"
     ]
    }
   ],
   "source": [
    "model_g1.compile(loss=\"binary_crossentropy\",optimizer = 'adam',metrics=[\"accuracy\"])\n",
    "model_g1.fit(train_data, epochs=10)\n",
    "y15=model_g1.predict(test_f)\n",
    "yy5=[np.mean(y15[x]) for x in range(y15.shape[0])]\n",
    "fpr5, tpr5, thresholds = roc_curve(target_t, yy5)\n",
    "fpr.append(fpr5) \n",
    "tpr.append(tpr5) \n",
    "auc.append(roc_auc_score(target_t, yy5))\n"
   ]
  },
  {
   "cell_type": "code",
   "execution_count": 131,
   "id": "e6f39514",
   "metadata": {},
   "outputs": [
    {
     "data": {
      "image/png": "[encoded data removed]",
      "text/plain": [
       "<Figure size 640x480 with 1 Axes>"
      ]
     },
     "metadata": {},
     "output_type": "display_data"
    }
   ],
   "source": [
    "import matplotlib.pyplot as plt\n",
    "%matplotlib inline\n",
    "import numpy as np\n",
    "\n",
    "method=['lstm','gru-1-1ayer','gru-2-layer','lstm-gru-6epoch','gru-1-1ayer-10epoch']\n",
    "for i in range(5):\n",
    "    plt.plot(fpr[i], tpr[i], label=method[i])\n",
    "plt.title('Three Models ROC')\n",
    "plt.legend(loc='lower right', fancybox=True, framealpha=0.6, fontsize=10)\n",
    "plt.plot((0, 1), (0, 1), c = '#808080', lw = 1, ls = '--', alpha = 0.7)\n",
    "plt.xlim((-0.01, 1.02))\n",
    "plt.ylim((-0.01, 1.02))\n",
    "plt.xticks(np.arange(0, 1.1, 0.1))\n",
    "plt.yticks(np.arange(0, 1.1, 0.1))\n",
    "plt.xlabel('False Positive Rate', fontsize=13)\n",
    "plt.ylabel('True Positive Rate', fontsize=13)\n",
    "plt.grid(visible=True, ls=':')"
   ]
  },
  {
   "cell_type": "markdown",
   "id": "c68c8185",
   "metadata": {},
   "source": [
    "### ROC curive model good order :  'gru-1-1ayer-10epoch' > 'lstm-gru-6epoch' > 'gru-1-1ayer' > 'lstm' > 'gru-2-layer'"
   ]
  },
  {
   "cell_type": "code",
   "execution_count": 132,
   "id": "69fbe909",
   "metadata": {},
   "outputs": [
    {
     "name": "stdout",
     "output_type": "stream",
     "text": [
      "lstm\n",
      "0.505343074713085\n",
      "gru-1-1ayer\n",
      "0.4987699674044663\n",
      "gru-2-layer\n",
      "0.5053817351089676\n",
      "lstm-gru-6epoch\n",
      "0.5073174949311481\n",
      "gru-1-1ayer-10epoch\n",
      "0.5029808305237046\n"
     ]
    }
   ],
   "source": [
    "method=['lstm','gru-1-1ayer','gru-2-layer','lstm-gru-6epoch','gru-1-1ayer-10epoch']\n",
    "for i in range(5):\n",
    "    print(method[i])\n",
    "    print(auc[i])"
   ]
  }
 ],
 "metadata": {
  "kernelspec": {
   "display_name": "Python 3",
   "language": "python",
   "name": "python3"
  },
  "language_info": {
   "codemirror_mode": {
    "name": "ipython",
    "version": 3
   },
   "file_extension": ".py",
   "mimetype": "text/x-python",
   "name": "python",
   "nbconvert_exporter": "python",
   "pygments_lexer": "ipython3",
   "version": "3.11.9"
  }
 },
 "nbformat": 4,
 "nbformat_minor": 5
}
